{
 "cells": [
  {
   "cell_type": "code",
   "execution_count": 95,
   "id": "c1a3536d-60c2-4d05-b548-eb97c357b7f1",
   "metadata": {},
   "outputs": [],
   "source": [
    "import pandas as pd # <--  used for reading in excell files.  creates a dataframe.  Think of a dataframe losely as an excell spreadsheet.  We rename pandas to pd for convenience\n",
    "import pylab # <-- used for plots .  simple but quick to use.  interactive ones can be made with plotly and bokeh.  later\n",
    "import numpy as np  # <-- used for maths and arrays."
   ]
  },
  {
   "cell_type": "code",
   "execution_count": 96,
   "id": "6d9b51b1-8ccc-4e7c-add7-ec5f0ae18f32",
   "metadata": {},
   "outputs": [],
   "source": [
    "df = pd.read_excel('data/shares_basic.xlsx')"
   ]
  },
  {
   "cell_type": "code",
   "execution_count": 97,
   "id": "9430dfd7-84cd-48f5-bccf-cb679ed04adc",
   "metadata": {},
   "outputs": [
    {
     "data": {
      "text/html": [
       "<div>\n",
       "<style scoped>\n",
       "    .dataframe tbody tr th:only-of-type {\n",
       "        vertical-align: middle;\n",
       "    }\n",
       "\n",
       "    .dataframe tbody tr th {\n",
       "        vertical-align: top;\n",
       "    }\n",
       "\n",
       "    .dataframe thead th {\n",
       "        text-align: right;\n",
       "    }\n",
       "</style>\n",
       "<table border=\"1\" class=\"dataframe\">\n",
       "  <thead>\n",
       "    <tr style=\"text-align: right;\">\n",
       "      <th></th>\n",
       "      <th>ticker</th>\n",
       "      <th>company name</th>\n",
       "      <th>current price</th>\n",
       "      <th>%daily</th>\n",
       "      <th>base price</th>\n",
       "      <th>AU adjusted value</th>\n",
       "      <th>Quantity</th>\n",
       "      <th>% of total</th>\n",
       "      <th>market</th>\n",
       "      <th>type</th>\n",
       "      <th>...</th>\n",
       "      <th>Sn</th>\n",
       "      <th>other</th>\n",
       "      <th>check</th>\n",
       "      <th>$U</th>\n",
       "      <th>$Au</th>\n",
       "      <th>$Ag</th>\n",
       "      <th>$Cu</th>\n",
       "      <th>$Ni</th>\n",
       "      <th>$Sn</th>\n",
       "      <th>$other</th>\n",
       "    </tr>\n",
       "  </thead>\n",
       "  <tbody>\n",
       "    <tr>\n",
       "      <th>0</th>\n",
       "      <td>MRM</td>\n",
       "      <td>NaN</td>\n",
       "      <td>0.440</td>\n",
       "      <td>0.035294</td>\n",
       "      <td>0.315000</td>\n",
       "      <td>2860.000000</td>\n",
       "      <td>6500</td>\n",
       "      <td>0.018848</td>\n",
       "      <td>asx</td>\n",
       "      <td>equity</td>\n",
       "      <td>...</td>\n",
       "      <td>NaN</td>\n",
       "      <td>1.0</td>\n",
       "      <td>OK</td>\n",
       "      <td>0.0</td>\n",
       "      <td>0.000000</td>\n",
       "      <td>0.0</td>\n",
       "      <td>0.0</td>\n",
       "      <td>0.0</td>\n",
       "      <td>0.0</td>\n",
       "      <td>2860.0</td>\n",
       "    </tr>\n",
       "    <tr>\n",
       "      <th>1</th>\n",
       "      <td>AGE</td>\n",
       "      <td>NaN</td>\n",
       "      <td>0.037</td>\n",
       "      <td>0.000000</td>\n",
       "      <td>0.026545</td>\n",
       "      <td>4070.000000</td>\n",
       "      <td>110000</td>\n",
       "      <td>0.026822</td>\n",
       "      <td>ASX</td>\n",
       "      <td>EQUITY</td>\n",
       "      <td>...</td>\n",
       "      <td>NaN</td>\n",
       "      <td>NaN</td>\n",
       "      <td>OK</td>\n",
       "      <td>4070.0</td>\n",
       "      <td>0.000000</td>\n",
       "      <td>0.0</td>\n",
       "      <td>0.0</td>\n",
       "      <td>0.0</td>\n",
       "      <td>0.0</td>\n",
       "      <td>0.0</td>\n",
       "    </tr>\n",
       "    <tr>\n",
       "      <th>2</th>\n",
       "      <td>PDN</td>\n",
       "      <td>NaN</td>\n",
       "      <td>0.490</td>\n",
       "      <td>-0.020000</td>\n",
       "      <td>0.355299</td>\n",
       "      <td>6566.000000</td>\n",
       "      <td>13400</td>\n",
       "      <td>0.043271</td>\n",
       "      <td>ASX</td>\n",
       "      <td>EQUITY</td>\n",
       "      <td>...</td>\n",
       "      <td>NaN</td>\n",
       "      <td>NaN</td>\n",
       "      <td>OK</td>\n",
       "      <td>6566.0</td>\n",
       "      <td>0.000000</td>\n",
       "      <td>0.0</td>\n",
       "      <td>0.0</td>\n",
       "      <td>0.0</td>\n",
       "      <td>0.0</td>\n",
       "      <td>0.0</td>\n",
       "    </tr>\n",
       "    <tr>\n",
       "      <th>3</th>\n",
       "      <td>FNV</td>\n",
       "      <td>NaN</td>\n",
       "      <td>145.230</td>\n",
       "      <td>-0.000275</td>\n",
       "      <td>108.368000</td>\n",
       "      <td>4786.119167</td>\n",
       "      <td>25</td>\n",
       "      <td>0.031541</td>\n",
       "      <td>US</td>\n",
       "      <td>ROYALTY</td>\n",
       "      <td>...</td>\n",
       "      <td>NaN</td>\n",
       "      <td>NaN</td>\n",
       "      <td>OK</td>\n",
       "      <td>0.0</td>\n",
       "      <td>4786.119167</td>\n",
       "      <td>0.0</td>\n",
       "      <td>0.0</td>\n",
       "      <td>0.0</td>\n",
       "      <td>0.0</td>\n",
       "      <td>0.0</td>\n",
       "    </tr>\n",
       "    <tr>\n",
       "      <th>4</th>\n",
       "      <td>GXY</td>\n",
       "      <td>NaN</td>\n",
       "      <td>3.640</td>\n",
       "      <td>0.045977</td>\n",
       "      <td>2.730000</td>\n",
       "      <td>1820.000000</td>\n",
       "      <td>500</td>\n",
       "      <td>0.011994</td>\n",
       "      <td>ASX</td>\n",
       "      <td>EQUITY</td>\n",
       "      <td>...</td>\n",
       "      <td>NaN</td>\n",
       "      <td>1.0</td>\n",
       "      <td>OK</td>\n",
       "      <td>0.0</td>\n",
       "      <td>0.000000</td>\n",
       "      <td>0.0</td>\n",
       "      <td>0.0</td>\n",
       "      <td>0.0</td>\n",
       "      <td>0.0</td>\n",
       "      <td>1820.0</td>\n",
       "    </tr>\n",
       "  </tbody>\n",
       "</table>\n",
       "<p>5 rows × 31 columns</p>\n",
       "</div>"
      ],
      "text/plain": [
       "  ticker  company name  current price    %daily  base price  \\\n",
       "0    MRM           NaN          0.440  0.035294    0.315000   \n",
       "1    AGE           NaN          0.037  0.000000    0.026545   \n",
       "2    PDN           NaN          0.490 -0.020000    0.355299   \n",
       "3    FNV           NaN        145.230 -0.000275  108.368000   \n",
       "4    GXY           NaN          3.640  0.045977    2.730000   \n",
       "\n",
       "   AU adjusted value  Quantity  % of total market     type  ...  Sn other  \\\n",
       "0        2860.000000      6500    0.018848    asx   equity  ... NaN   1.0   \n",
       "1        4070.000000    110000    0.026822    ASX   EQUITY  ... NaN   NaN   \n",
       "2        6566.000000     13400    0.043271    ASX   EQUITY  ... NaN   NaN   \n",
       "3        4786.119167        25    0.031541     US  ROYALTY  ... NaN   NaN   \n",
       "4        1820.000000       500    0.011994    ASX   EQUITY  ... NaN   1.0   \n",
       "\n",
       "   check      $U          $Au  $Ag  $Cu  $Ni  $Sn  $other  \n",
       "0     OK     0.0     0.000000  0.0  0.0  0.0  0.0  2860.0  \n",
       "1     OK  4070.0     0.000000  0.0  0.0  0.0  0.0     0.0  \n",
       "2     OK  6566.0     0.000000  0.0  0.0  0.0  0.0     0.0  \n",
       "3     OK     0.0  4786.119167  0.0  0.0  0.0  0.0     0.0  \n",
       "4     OK     0.0     0.000000  0.0  0.0  0.0  0.0  1820.0  \n",
       "\n",
       "[5 rows x 31 columns]"
      ]
     },
     "execution_count": 97,
     "metadata": {},
     "output_type": "execute_result"
    }
   ],
   "source": [
    "df.head() # just display the first few rows for a sanity check"
   ]
  },
  {
   "cell_type": "markdown",
   "id": "f7411e5e-533c-4977-aa4f-2d32fffa9b17",
   "metadata": {},
   "source": [
    "## Lets do Some very simple visualisation of the data we have. "
   ]
  },
  {
   "cell_type": "code",
   "execution_count": null,
   "id": "6d08d828-1e5b-4914-a2f8-719013ab5534",
   "metadata": {},
   "outputs": [],
   "source": [
    "pylab.pie(df['Quantity'], labels=df['ticker'], shadow = True, autopct='%1.1f%%', textprops={'color':\"w\"});"
   ]
  },
  {
   "cell_type": "code",
   "execution_count": null,
   "id": "49067cea-4dfa-4170-92d8-90447f0933ac",
   "metadata": {},
   "outputs": [],
   "source": []
  },
  {
   "cell_type": "code",
   "execution_count": null,
   "id": "480e5187-cda3-4cce-a667-fa140b1ac082",
   "metadata": {},
   "outputs": [],
   "source": [
    "pylab.bar(df['ticker'], df['base price'], alpha = 0.5)\n",
    "pylab.bar(df['ticker'], df['current price'], alpha = 0.5)\n",
    "pylab.grid(True)"
   ]
  },
  {
   "cell_type": "code",
   "execution_count": null,
   "id": "6d8d81a6-d45e-4224-b0f8-1c934544e1c3",
   "metadata": {},
   "outputs": [],
   "source": [
    "pylab.rcParams[\"figure.figsize\"] = (20,10) #<-- play with these until you get the desired aspect ratio"
   ]
  },
  {
   "cell_type": "code",
   "execution_count": null,
   "id": "6c43f7ba-eea3-4f72-894b-b0ce5656690c",
   "metadata": {},
   "outputs": [],
   "source": [
    "pylab.bar(df['ticker'], df['base price'], alpha = 0.5)\n",
    "pylab.bar(df['ticker'], df['current price'], alpha = 0.5)\n",
    "pylab.grid(True)"
   ]
  },
  {
   "cell_type": "markdown",
   "id": "03184a9a-ce59-42c7-9852-dcfe3ed0a733",
   "metadata": {},
   "source": [
    "## Now lets look at the percent difference"
   ]
  },
  {
   "cell_type": "code",
   "execution_count": null,
   "id": "05ea5d35-db96-49d9-9668-050c444bca39",
   "metadata": {},
   "outputs": [],
   "source": [
    "pct_diff = (df['base price'] - df['current price']) / df['base price'] * 100\n",
    "pct_diff = pct_diff.to_numpy();  # we convert from a dataframe to numpy array for convenience  the ';' suppresses the output.  try remove and run the cell again."
   ]
  },
  {
   "cell_type": "code",
   "execution_count": null,
   "id": "d21d6e52-6775-46c0-b37f-69c712bff09c",
   "metadata": {},
   "outputs": [],
   "source": [
    "pct_total_av = pct_diff.mean()\n",
    "\n",
    "pylab.bar(df['ticker'], pct_diff, alpha = 0.7)\n",
    "pylab.ylabel('% change')\n",
    "pylab.grid(True)\n",
    "\n",
    "props = dict(boxstyle='round', facecolor='wheat', alpha=0.5)\n",
    "text = f'Average return {pct_total_av}'  # we can combine string and variables.  put string in {}  or use str(pct_total_av) to convert\n",
    "pylab.text(0.05, 20, text ,  fontsize=14,\n",
    "        verticalalignment='top', bbox=props)"
   ]
  },
  {
   "cell_type": "code",
   "execution_count": null,
   "id": "5180cc52-6679-43ee-8ab5-8b1d19e7f7b9",
   "metadata": {},
   "outputs": [],
   "source": [
    "a_type = df.groupby('type')['Quantity'].mean()  # can do a lot with this groupby"
   ]
  },
  {
   "cell_type": "code",
   "execution_count": null,
   "id": "de10a646-c39a-4c9b-bb65-1147c6068578",
   "metadata": {},
   "outputs": [],
   "source": [
    "pylab.pie(a_type, labels = a_type.index, shadow = True, autopct='%1.1f%%', textprops={'color':\"w\"});"
   ]
  },
  {
   "cell_type": "code",
   "execution_count": null,
   "id": "e9d615ba-f0b0-497b-bed2-d21c1389b03c",
   "metadata": {},
   "outputs": [],
   "source": [
    "a = df.groupby('type')['Quantity'].mean()"
   ]
  },
  {
   "cell_type": "code",
   "execution_count": null,
   "id": "5ee0b27d-b1c7-42bb-8544-b584eb6433b6",
   "metadata": {},
   "outputs": [],
   "source": [
    "a.index\n",
    "\n"
   ]
  },
  {
   "cell_type": "code",
   "execution_count": null,
   "id": "14cb33a4-6a65-43fb-bb95-99e279443e1b",
   "metadata": {},
   "outputs": [],
   "source": []
  }
 ],
 "metadata": {
  "kernelspec": {
   "display_name": "Python 3",
   "language": "python",
   "name": "python3"
  },
  "language_info": {
   "codemirror_mode": {
    "name": "ipython",
    "version": 3
   },
   "file_extension": ".py",
   "mimetype": "text/x-python",
   "name": "python",
   "nbconvert_exporter": "python",
   "pygments_lexer": "ipython3",
   "version": "3.8.10"
  }
 },
 "nbformat": 4,
 "nbformat_minor": 5
}
