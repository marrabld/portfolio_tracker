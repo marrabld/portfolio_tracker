{
 "cells": [
  {
   "cell_type": "markdown",
   "id": "83b6e5e2-864b-4b3c-9525-a508046276c1",
   "metadata": {},
   "source": [
    "## Build and track our portfolio based on our trades."
   ]
  },
  {
   "cell_type": "code",
   "execution_count": 1,
   "id": "bfb152b7-a06d-4906-b891-45f76da867ee",
   "metadata": {},
   "outputs": [],
   "source": [
    "import pandas as pd\n",
    "import yfinance as yf\n",
    "import plotly.graph_objects as go"
   ]
  },
  {
   "cell_type": "markdown",
   "id": "003c3eab-2a73-4fdb-8795-63eed54d143a",
   "metadata": {},
   "source": [
    "Spoofing the data for now. Could come from xlsx or  pull from broker if there is an API"
   ]
  },
  {
   "cell_type": "code",
   "execution_count": 2,
   "id": "603d7d2a-adf9-4e0b-a568-f3fa6354b64f",
   "metadata": {},
   "outputs": [],
   "source": [
    "data = {'tickers': ['BTC-AUD', 'BOE.AX', 'PDN.AX'] ,\n",
    "        'prices': [10000, 0.34, 0.40 ],\n",
    "        'amounts': [13, 3000, 2100],\n",
    "        'dates': ['2021-01-01', '2020-02-01', '2021-01-01']}  # Spoofing for now. Could come from xlsx or  pull from broker if there is an API"
   ]
  },
  {
   "cell_type": "markdown",
   "id": "c488d5f2-eb99-459a-89b8-40404f88e9f2",
   "metadata": {},
   "source": [
    "We load the data into a pandas dataframe"
   ]
  },
  {
   "cell_type": "code",
   "execution_count": 3,
   "id": "872ac533-5db9-4884-a1d0-b6aa6c401aab",
   "metadata": {},
   "outputs": [],
   "source": [
    "trade_data = pd.DataFrame.from_dict(data)"
   ]
  },
  {
   "cell_type": "code",
   "execution_count": 4,
   "id": "121a1d6c-761f-4469-ba89-b0f65e635cc1",
   "metadata": {},
   "outputs": [
    {
     "data": {
      "text/html": [
       "<div>\n",
       "<style scoped>\n",
       "    .dataframe tbody tr th:only-of-type {\n",
       "        vertical-align: middle;\n",
       "    }\n",
       "\n",
       "    .dataframe tbody tr th {\n",
       "        vertical-align: top;\n",
       "    }\n",
       "\n",
       "    .dataframe thead th {\n",
       "        text-align: right;\n",
       "    }\n",
       "</style>\n",
       "<table border=\"1\" class=\"dataframe\">\n",
       "  <thead>\n",
       "    <tr style=\"text-align: right;\">\n",
       "      <th></th>\n",
       "      <th>tickers</th>\n",
       "      <th>prices</th>\n",
       "      <th>amounts</th>\n",
       "      <th>dates</th>\n",
       "    </tr>\n",
       "  </thead>\n",
       "  <tbody>\n",
       "    <tr>\n",
       "      <th>0</th>\n",
       "      <td>BTC-AUD</td>\n",
       "      <td>10000.00</td>\n",
       "      <td>13</td>\n",
       "      <td>2021-01-01</td>\n",
       "    </tr>\n",
       "    <tr>\n",
       "      <th>1</th>\n",
       "      <td>BOE.AX</td>\n",
       "      <td>0.34</td>\n",
       "      <td>3000</td>\n",
       "      <td>2020-02-01</td>\n",
       "    </tr>\n",
       "    <tr>\n",
       "      <th>2</th>\n",
       "      <td>PDN.AX</td>\n",
       "      <td>0.40</td>\n",
       "      <td>2100</td>\n",
       "      <td>2021-01-01</td>\n",
       "    </tr>\n",
       "  </tbody>\n",
       "</table>\n",
       "</div>"
      ],
      "text/plain": [
       "   tickers    prices  amounts       dates\n",
       "0  BTC-AUD  10000.00       13  2021-01-01\n",
       "1   BOE.AX      0.34     3000  2020-02-01\n",
       "2   PDN.AX      0.40     2100  2021-01-01"
      ]
     },
     "execution_count": 4,
     "metadata": {},
     "output_type": "execute_result"
    }
   ],
   "source": [
    "trade_data.head()"
   ]
  },
  {
   "cell_type": "markdown",
   "id": "a4e864d2-c680-4c81-aa95-877a46dce796",
   "metadata": {},
   "source": [
    "So we wish to see how each trade has done on a daily basis.  We will use yfinance for now, could get from any number of APIs \n",
    "\n",
    "If you haven't already, `pip install yfinance` in a terminal\n",
    "\n",
    "Lets define some constants which we will use to setup the scope of our analysis"
   ]
  },
  {
   "cell_type": "code",
   "execution_count": 5,
   "id": "0ccc442b-758d-4561-890d-894c1ae08203",
   "metadata": {},
   "outputs": [],
   "source": [
    "PERIOD = '1D' # Daily\n",
    "END = '2021-06-05' #  could use datetime.now"
   ]
  },
  {
   "cell_type": "code",
   "execution_count": 6,
   "id": "e0255900-6bae-419d-9daf-580d9542cec7",
   "metadata": {},
   "outputs": [],
   "source": [
    "quotes = [] # empty list for storing quotes\n",
    "\n",
    "for ticker, date in zip(trade_data['tickers'], trade_data['dates'] ):\n",
    "    _quote = yf.Ticker(ticker)\n",
    "    quotes.append(_quote.history(period=PERIOD, start=date, end=END))"
   ]
  },
  {
   "cell_type": "code",
   "execution_count": 7,
   "id": "d1ac691b-9f88-4430-b420-567ab91dc1bd",
   "metadata": {},
   "outputs": [
    {
     "data": {
      "text/html": [
       "<div>\n",
       "<style scoped>\n",
       "    .dataframe tbody tr th:only-of-type {\n",
       "        vertical-align: middle;\n",
       "    }\n",
       "\n",
       "    .dataframe tbody tr th {\n",
       "        vertical-align: top;\n",
       "    }\n",
       "\n",
       "    .dataframe thead th {\n",
       "        text-align: right;\n",
       "    }\n",
       "</style>\n",
       "<table border=\"1\" class=\"dataframe\">\n",
       "  <thead>\n",
       "    <tr style=\"text-align: right;\">\n",
       "      <th></th>\n",
       "      <th>Open</th>\n",
       "      <th>High</th>\n",
       "      <th>Low</th>\n",
       "      <th>Close</th>\n",
       "      <th>Volume</th>\n",
       "      <th>Dividends</th>\n",
       "      <th>Stock Splits</th>\n",
       "    </tr>\n",
       "    <tr>\n",
       "      <th>Date</th>\n",
       "      <th></th>\n",
       "      <th></th>\n",
       "      <th></th>\n",
       "      <th></th>\n",
       "      <th></th>\n",
       "      <th></th>\n",
       "      <th></th>\n",
       "    </tr>\n",
       "  </thead>\n",
       "  <tbody>\n",
       "    <tr>\n",
       "      <th>2020-12-31</th>\n",
       "      <td>37515.300781</td>\n",
       "      <td>38024.976562</td>\n",
       "      <td>36470.363281</td>\n",
       "      <td>37668.855469</td>\n",
       "      <td>60727639338</td>\n",
       "      <td>0</td>\n",
       "      <td>0</td>\n",
       "    </tr>\n",
       "    <tr>\n",
       "      <th>2021-01-01</th>\n",
       "      <td>37658.839844</td>\n",
       "      <td>38417.914062</td>\n",
       "      <td>37410.789062</td>\n",
       "      <td>38181.992188</td>\n",
       "      <td>52943282221</td>\n",
       "      <td>0</td>\n",
       "      <td>0</td>\n",
       "    </tr>\n",
       "    <tr>\n",
       "      <th>2021-01-02</th>\n",
       "      <td>38184.984375</td>\n",
       "      <td>43096.679688</td>\n",
       "      <td>37814.171875</td>\n",
       "      <td>41760.628906</td>\n",
       "      <td>88214867182</td>\n",
       "      <td>0</td>\n",
       "      <td>0</td>\n",
       "    </tr>\n",
       "    <tr>\n",
       "      <th>2021-01-03</th>\n",
       "      <td>41763.410156</td>\n",
       "      <td>44985.933594</td>\n",
       "      <td>41663.203125</td>\n",
       "      <td>42511.105469</td>\n",
       "      <td>102011582370</td>\n",
       "      <td>0</td>\n",
       "      <td>0</td>\n",
       "    </tr>\n",
       "    <tr>\n",
       "      <th>2021-01-04</th>\n",
       "      <td>42548.613281</td>\n",
       "      <td>43360.960938</td>\n",
       "      <td>37133.984375</td>\n",
       "      <td>41686.386719</td>\n",
       "      <td>105824510347</td>\n",
       "      <td>0</td>\n",
       "      <td>0</td>\n",
       "    </tr>\n",
       "  </tbody>\n",
       "</table>\n",
       "</div>"
      ],
      "text/plain": [
       "                    Open          High           Low         Close  \\\n",
       "Date                                                                 \n",
       "2020-12-31  37515.300781  38024.976562  36470.363281  37668.855469   \n",
       "2021-01-01  37658.839844  38417.914062  37410.789062  38181.992188   \n",
       "2021-01-02  38184.984375  43096.679688  37814.171875  41760.628906   \n",
       "2021-01-03  41763.410156  44985.933594  41663.203125  42511.105469   \n",
       "2021-01-04  42548.613281  43360.960938  37133.984375  41686.386719   \n",
       "\n",
       "                  Volume  Dividends  Stock Splits  \n",
       "Date                                               \n",
       "2020-12-31   60727639338          0             0  \n",
       "2021-01-01   52943282221          0             0  \n",
       "2021-01-02   88214867182          0             0  \n",
       "2021-01-03  102011582370          0             0  \n",
       "2021-01-04  105824510347          0             0  "
      ]
     },
     "execution_count": 7,
     "metadata": {},
     "output_type": "execute_result"
    }
   ],
   "source": [
    "quotes[0].head()"
   ]
  },
  {
   "cell_type": "code",
   "execution_count": 8,
   "id": "15fc32b8-0e9f-431b-aab2-e321abe1fe3e",
   "metadata": {},
   "outputs": [
    {
     "data": {
      "text/html": [
       "<div>\n",
       "<style scoped>\n",
       "    .dataframe tbody tr th:only-of-type {\n",
       "        vertical-align: middle;\n",
       "    }\n",
       "\n",
       "    .dataframe tbody tr th {\n",
       "        vertical-align: top;\n",
       "    }\n",
       "\n",
       "    .dataframe thead th {\n",
       "        text-align: right;\n",
       "    }\n",
       "</style>\n",
       "<table border=\"1\" class=\"dataframe\">\n",
       "  <thead>\n",
       "    <tr style=\"text-align: right;\">\n",
       "      <th></th>\n",
       "      <th>Open</th>\n",
       "      <th>High</th>\n",
       "      <th>Low</th>\n",
       "      <th>Close</th>\n",
       "      <th>Volume</th>\n",
       "      <th>Dividends</th>\n",
       "      <th>Stock Splits</th>\n",
       "    </tr>\n",
       "    <tr>\n",
       "      <th>Date</th>\n",
       "      <th></th>\n",
       "      <th></th>\n",
       "      <th></th>\n",
       "      <th></th>\n",
       "      <th></th>\n",
       "      <th></th>\n",
       "      <th></th>\n",
       "    </tr>\n",
       "  </thead>\n",
       "  <tbody>\n",
       "    <tr>\n",
       "      <th>2020-02-03</th>\n",
       "      <td>0.048</td>\n",
       "      <td>0.048</td>\n",
       "      <td>0.047</td>\n",
       "      <td>0.048</td>\n",
       "      <td>2475057</td>\n",
       "      <td>0</td>\n",
       "      <td>0</td>\n",
       "    </tr>\n",
       "    <tr>\n",
       "      <th>2020-02-04</th>\n",
       "      <td>0.048</td>\n",
       "      <td>0.048</td>\n",
       "      <td>0.046</td>\n",
       "      <td>0.047</td>\n",
       "      <td>749366</td>\n",
       "      <td>0</td>\n",
       "      <td>0</td>\n",
       "    </tr>\n",
       "    <tr>\n",
       "      <th>2020-02-05</th>\n",
       "      <td>0.047</td>\n",
       "      <td>0.047</td>\n",
       "      <td>0.045</td>\n",
       "      <td>0.046</td>\n",
       "      <td>1720348</td>\n",
       "      <td>0</td>\n",
       "      <td>0</td>\n",
       "    </tr>\n",
       "    <tr>\n",
       "      <th>2020-02-06</th>\n",
       "      <td>0.046</td>\n",
       "      <td>0.046</td>\n",
       "      <td>0.044</td>\n",
       "      <td>0.044</td>\n",
       "      <td>811628</td>\n",
       "      <td>0</td>\n",
       "      <td>0</td>\n",
       "    </tr>\n",
       "    <tr>\n",
       "      <th>2020-02-07</th>\n",
       "      <td>0.044</td>\n",
       "      <td>0.047</td>\n",
       "      <td>0.044</td>\n",
       "      <td>0.047</td>\n",
       "      <td>415795</td>\n",
       "      <td>0</td>\n",
       "      <td>0</td>\n",
       "    </tr>\n",
       "  </tbody>\n",
       "</table>\n",
       "</div>"
      ],
      "text/plain": [
       "             Open   High    Low  Close   Volume  Dividends  Stock Splits\n",
       "Date                                                                    \n",
       "2020-02-03  0.048  0.048  0.047  0.048  2475057          0             0\n",
       "2020-02-04  0.048  0.048  0.046  0.047   749366          0             0\n",
       "2020-02-05  0.047  0.047  0.045  0.046  1720348          0             0\n",
       "2020-02-06  0.046  0.046  0.044  0.044   811628          0             0\n",
       "2020-02-07  0.044  0.047  0.044  0.047   415795          0             0"
      ]
     },
     "execution_count": 8,
     "metadata": {},
     "output_type": "execute_result"
    }
   ],
   "source": [
    "quotes[1].head()"
   ]
  },
  {
   "cell_type": "markdown",
   "id": "af6c6a67-a4c6-4aac-9b9b-22581fc1c987",
   "metadata": {},
   "source": [
    "----------\n",
    "Lets open some candlestick charts [Helpful link](https://coderzcolumn.com/tutorials/data-science/candlestick-chart-in-python-mplfinance-plotly-bokeh)  Lets use Plotly for now.  `pip install plotly`\n",
    "\n",
    "To use Plotly need to install [Node.js](https://nodejs.org/en/download/current/)    Do this by typing into a terminal\n",
    "\n",
    "`conda install jodejs`   \n",
    "followed by:   \n",
    "`jupyter labextension install @jupyterlab/plotly-extension`   \n",
    "----------------\n",
    "\n",
    "Now lets make a little dropdown box for us to chose the ticker we want to see below in the plot    \n",
    "`conda install ipywidgets`    \n",
    "`jupyter labextension install @jupyter-widgets/jupyterlab-manager`\n"
   ]
  },
  {
   "cell_type": "code",
   "execution_count": 29,
   "id": "ff437b34-bc73-4b3a-81d9-13a9b087d52d",
   "metadata": {},
   "outputs": [],
   "source": [
    "from ipywidgets import interact, interact_manual"
   ]
  },
  {
   "cell_type": "code",
   "execution_count": 31,
   "id": "53f53e9d-fd76-4f9b-8216-ff858a16c83b",
   "metadata": {
    "tags": []
   },
   "outputs": [
    {
     "data": {
      "application/vnd.jupyter.widget-view+json": {
       "model_id": "928d9e93d0d7469eb04a7a58c96dfe08",
       "version_major": 2,
       "version_minor": 0
      },
      "text/plain": [
       "interactive(children=(Dropdown(description='ticker', options=('BTC-AUD', 'BOE.AX', 'PDN.AX'), value='BTC-AUD')…"
      ]
     },
     "metadata": {},
     "output_type": "display_data"
    }
   ],
   "source": [
    "@interact()\n",
    "def make_plot(ticker=data['tickers']):\n",
    "\n",
    "    ii = data['tickers'].index(ticker)\n",
    "    candlestick = go.Candlestick(x=quotes[ii].index,\n",
    "                                open=quotes[ii]['Open'],\n",
    "                                high=quotes[ii]['High'],\n",
    "                                low=quotes[ii]['Low'],\n",
    "                                close=quotes[ii]['Close'])\n",
    "\n",
    "    fig = go.Figure(data=[candlestick])\n",
    "    fig.update_layout(xaxis_rangeslider_visible=False,\n",
    "                     title=trade_data['tickers'][ii],\n",
    "                     template='plotly_dark')\n",
    "\n",
    "    fig.show()"
   ]
  },
  {
   "cell_type": "code",
   "execution_count": null,
   "id": "9022ab50-04d8-42d6-89d8-d010c937ef44",
   "metadata": {
    "tags": []
   },
   "outputs": [],
   "source": []
  },
  {
   "cell_type": "code",
   "execution_count": null,
   "id": "be9fc77c-a2cd-4d2f-b098-1a3ce2cf6d68",
   "metadata": {},
   "outputs": [],
   "source": []
  },
  {
   "cell_type": "code",
   "execution_count": null,
   "id": "030c4eb0-c7ce-4df3-9f65-f084f3a60a56",
   "metadata": {},
   "outputs": [],
   "source": []
  },
  {
   "cell_type": "code",
   "execution_count": null,
   "id": "93ee74d9-879d-4e83-a66b-10426163a465",
   "metadata": {},
   "outputs": [],
   "source": []
  },
  {
   "cell_type": "code",
   "execution_count": null,
   "id": "f1693880-d1ba-4615-93f1-77af120fa91b",
   "metadata": {},
   "outputs": [],
   "source": []
  }
 ],
 "metadata": {
  "kernelspec": {
   "display_name": "Python 3",
   "language": "python",
   "name": "python3"
  },
  "language_info": {
   "codemirror_mode": {
    "name": "ipython",
    "version": 3
   },
   "file_extension": ".py",
   "mimetype": "text/x-python",
   "name": "python",
   "nbconvert_exporter": "python",
   "pygments_lexer": "ipython3",
   "version": "3.8.10"
  }
 },
 "nbformat": 4,
 "nbformat_minor": 5
}
