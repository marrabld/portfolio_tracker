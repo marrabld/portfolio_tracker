{
 "cells": [
  {
   "cell_type": "markdown",
   "id": "89e09c6e",
   "metadata": {},
   "source": [
    "<center><h1> Build and track our portfolio based on our trades.<h1></center>\n",
    "\n",
    "### Doesn't have any concept of buy and sell just yet.  only that a position is bought and held"
   ]
  },
  {
   "cell_type": "code",
   "execution_count": null,
   "id": "d4f3f1ce",
   "metadata": {},
   "outputs": [],
   "source": [
    "%load_ext autoreload\n",
    "%autoreload 2\n",
    "import pandas as pd\n",
    "import yfinance as yf\n",
    "import plotly.graph_objects as go\n",
    "import pylab\n",
    "import requests as rq\n",
    "import matplotlib\n",
    "from helper_scripts import *\n",
    "from IPython.display import HTML\n",
    "from datetime import datetime\n",
    "from ipywidgets import interact, interact_manual"
   ]
  },
  {
   "cell_type": "markdown",
   "id": "6cb6d71c",
   "metadata": {},
   "source": [
    "## We load the data into a pandas dataframe and Render as a nicer table"
   ]
  },
  {
   "cell_type": "code",
   "execution_count": null,
   "id": "9f3c66f2",
   "metadata": {},
   "outputs": [],
   "source": [
    "trade_data = pd.read_csv('data/trades.csv', delimiter=',')\n",
    "h = get_table_html(trade_data)\n",
    "HTML(h)"
   ]
  },
  {
   "cell_type": "markdown",
   "id": "78dc1fa5",
   "metadata": {},
   "source": []
  },
  {
   "cell_type": "code",
   "execution_count": null,
   "id": "c087237a",
   "metadata": {},
   "outputs": [],
   "source": [
    "quotes = get_quotes(trade_data)"
   ]
  },
  {
   "cell_type": "markdown",
   "id": "18873f52",
   "metadata": {
    "tags": []
   },
   "source": [
    "<!-- <div class=\"alert alert-danger\" role=\"alert\">\n",
    "  ^^^ We  can see a few missing. Need to fix these later. \n",
    "</div> -->"
   ]
  },
  {
   "cell_type": "code",
   "execution_count": null,
   "id": "e65994d1",
   "metadata": {
    "tags": []
   },
   "outputs": [],
   "source": [
    "@interact()\n",
    "def make_plot(ticker=trade_data['tickers']):\n",
    "\n",
    "    ii = list(trade_data['tickers']).index(ticker)\n",
    "    candlestick = go.Candlestick(x=quotes[ii].index,\n",
    "                                open=quotes[ii]['Open'],\n",
    "                                high=quotes[ii]['High'],\n",
    "                                low=quotes[ii]['Low'],\n",
    "                                close=quotes[ii]['Close'])\n",
    "\n",
    "    fig = go.Figure(data=[candlestick])\n",
    "    fig.update_layout(xaxis_rangeslider_visible=False,\n",
    "                     title=trade_data['tickers'][ii],\n",
    "                     template='plotly_dark',\n",
    "                     width=1600, height=800)\n",
    "\n",
    "    fig.show()"
   ]
  },
  {
   "cell_type": "markdown",
   "id": "5dc96463",
   "metadata": {
    "tags": []
   },
   "source": [
    "## Now we need to generate our port folio based on the ticker data.  Dealing with datetimes is always painful"
   ]
  },
  {
   "cell_type": "code",
   "execution_count": null,
   "id": "0210a903",
   "metadata": {},
   "outputs": [],
   "source": [
    "portfolio = generate_portfolio(trade_data, quotes)\n",
    "portfolio.describe()"
   ]
  },
  {
   "cell_type": "markdown",
   "id": "250706bf",
   "metadata": {},
   "source": [
    "## Now we need to find our non-aud equities and convert to AUD"
   ]
  },
  {
   "cell_type": "code",
   "execution_count": null,
   "id": "45157200",
   "metadata": {
    "tags": []
   },
   "outputs": [],
   "source": [
    "cl =trade_data['currency'].unique()  #  TODO We are converting AUD to AUD with this.  very innefficient.  but breaks if we don't do it.\n",
    "# cl = cl[cl!='AUD']  # if we're in AUD don't try and convert\n",
    "\n",
    "for currency in cl:\n",
    "    cols = trade_data[trade_data['currency']==currency]['tickers']\n",
    "    for ii, item in enumerate(cols.values):\n",
    "        c = convert_to_aud(portfolio[item], currency)\n",
    "#         print(c)\n",
    "        portfolio[item] = c"
   ]
  },
  {
   "cell_type": "code",
   "execution_count": null,
   "id": "ae8a478d-135b-464b-af40-1669087373c1",
   "metadata": {},
   "outputs": [],
   "source": [
    "portfolio.head()"
   ]
  },
  {
   "cell_type": "code",
   "execution_count": null,
   "id": "321c5dcd",
   "metadata": {},
   "outputs": [],
   "source": [
    "def write_to_excel(file='data/converted_portfolio.xls'):\n",
    "    portfolio.to_excel(file)\n",
    "write_to_excel()"
   ]
  },
  {
   "cell_type": "code",
   "execution_count": null,
   "id": "82de05a0",
   "metadata": {},
   "outputs": [],
   "source": [
    "import plotly.express as px\n",
    "\n",
    "fig = px.line(portfolio, width=1600, height=800)\n",
    "fig.update_layout(xaxis_rangeslider_visible=False,\n",
    "                 title='Portfolio Value',\n",
    "                 template='plotly_dark')\n",
    "fig.show()"
   ]
  },
  {
   "cell_type": "code",
   "execution_count": null,
   "id": "f95875bf",
   "metadata": {},
   "outputs": [],
   "source": [
    "def make_pie(df):\n",
    "    pylab.pie(df, labels=df.index, shadow = True, autopct='%1.1f%%', textprops={'color':\"w\"})"
   ]
  },
  {
   "cell_type": "code",
   "execution_count": null,
   "id": "41390f1c",
   "metadata": {},
   "outputs": [],
   "source": [
    "make_pie(trade_data.groupby(['market'] )['tickers'].count())\n",
    "pylab.title('Market', c='WHITE')"
   ]
  },
  {
   "cell_type": "code",
   "execution_count": null,
   "id": "2d1679c8",
   "metadata": {},
   "outputs": [],
   "source": [
    "@interact()\n",
    "def plot_pie(day=(0, portfolio.count()[0]-1)):\n",
    "    tmp = portfolio.copy()\n",
    "    tmp = tmp.drop('Total', axis=1)\n",
    "    vec = tmp.iloc[day].to_numpy()[:-1]\n",
    "    pylab.pie(vec, labels=tmp.columns[:-1], shadow = True, autopct='%1.1f%%', textprops={'color':\"w\"});\n",
    "    fig = matplotlib.pyplot.gcf()\n",
    "    fig.set_size_inches(18*2, 10*2)"
   ]
  },
  {
   "cell_type": "markdown",
   "id": "c37b082d",
   "metadata": {},
   "source": []
  },
  {
   "cell_type": "code",
   "execution_count": null,
   "id": "b3bf7cdd",
   "metadata": {},
   "outputs": [],
   "source": [
    "import plotly.express as px\n",
    "\n",
    "portfolio.corr();\n",
    "\n",
    "fig = px.imshow(portfolio.corr(), width=1000, height=1000)\n",
    "fig.update_layout(\n",
    "    title= 'Pearson Correlation Coefficient')\n",
    "fig.show()"
   ]
  }
 ],
 "metadata": {
  "kernelspec": {
   "display_name": "Python 3",
   "language": "python",
   "name": "python3"
  },
  "language_info": {
   "codemirror_mode": {
    "name": "ipython",
    "version": 3
   },
   "file_extension": ".py",
   "mimetype": "text/x-python",
   "name": "python",
   "nbconvert_exporter": "python",
   "pygments_lexer": "ipython3",
   "version": "3.8.10"
  }
 },
 "nbformat": 4,
 "nbformat_minor": 5
}
