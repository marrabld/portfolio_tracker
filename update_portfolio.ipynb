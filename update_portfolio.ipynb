{
 "cells": [
  {
   "cell_type": "markdown",
   "id": "83b6e5e2-864b-4b3c-9525-a508046276c1",
   "metadata": {},
   "source": [
    "## Build and track our portfolio based on our trades.\n",
    "\n",
    "### Doesn't have any concept of buy and sell just yet.  only that a position is bought and held"
   ]
  },
  {
   "cell_type": "code",
   "execution_count": null,
   "id": "bfb152b7-a06d-4906-b891-45f76da867ee",
   "metadata": {},
   "outputs": [],
   "source": [
    "import pandas as pd\n",
    "import yfinance as yf\n",
    "import plotly.graph_objects as go\n",
    "import pylab"
   ]
  },
  {
   "cell_type": "markdown",
   "id": "003c3eab-2a73-4fdb-8795-63eed54d143a",
   "metadata": {},
   "source": [
    "Spoofing the data for now. Could come from xlsx or  pull from broker if there is an API"
   ]
  },
  {
   "cell_type": "code",
   "execution_count": null,
   "id": "603d7d2a-adf9-4e0b-a568-f3fa6354b64f",
   "metadata": {},
   "outputs": [],
   "source": [
    "# data = {'tickers': ['BTC-AUD', 'BOE.AX', 'PDN.AX', 'ETH-AUD', 'BOE.AX'] ,\n",
    "#         'prices': [10000, 0.34, 0.40, 300.0, 0.4 ],\n",
    "#         'amounts': [0.01, 3000, 2100, 0.11, -2000],  # negative amounts indicates a sell\n",
    "#         'dates': ['2021-01-01', '2021-01-01', '2021-01-01', '2021-01-01', '2021-05-01'],\n",
    "#         'type': ['crypto', 'equity', 'equity', 'crypto', 'equity' ],\n",
    "#         'commodity': [None, 'U', 'U', None, 'U']}  # Spoofing for now. Could come from xlsx or  pull from broker if there is an API"
   ]
  },
  {
   "cell_type": "code",
   "execution_count": null,
   "id": "52f57383-2f35-4c40-b1ab-92866875ebd5",
   "metadata": {},
   "outputs": [],
   "source": []
  },
  {
   "cell_type": "markdown",
   "id": "c488d5f2-eb99-459a-89b8-40404f88e9f2",
   "metadata": {},
   "source": [
    "We load the data into a pandas dataframe\n",
    "\n",
    "Not Spoofing any more.  we're taking the data from a subset of our trades xlsx spreadsheet. "
   ]
  },
  {
   "cell_type": "code",
   "execution_count": null,
   "id": "872ac533-5db9-4884-a1d0-b6aa6c401aab",
   "metadata": {},
   "outputs": [],
   "source": [
    "# trade_data = pd.DataFrame.from_dict(data)"
   ]
  },
  {
   "cell_type": "code",
   "execution_count": null,
   "id": "121a1d6c-761f-4469-ba89-b0f65e635cc1",
   "metadata": {},
   "outputs": [],
   "source": [
    "# trade_data.head()"
   ]
  },
  {
   "cell_type": "code",
   "execution_count": null,
   "id": "759f4a8b-0818-4690-bccc-154a62270f8b",
   "metadata": {},
   "outputs": [],
   "source": [
    "trade_data = pd.read_csv('data/trades.csv', delimiter=',')"
   ]
  },
  {
   "cell_type": "code",
   "execution_count": null,
   "id": "f9523d93-0650-4477-9fd8-0b30e790dc25",
   "metadata": {},
   "outputs": [],
   "source": [
    "trade_data.head()"
   ]
  },
  {
   "cell_type": "markdown",
   "id": "8825d10d-4708-4eb3-aa43-41166aebfa06",
   "metadata": {},
   "source": [
    "lets look for duplicate tickers meaning we have either bought or sold the same ticker more than once"
   ]
  },
  {
   "cell_type": "code",
   "execution_count": null,
   "id": "f47332ee-206c-44f6-a346-fe1b9bee7ae0",
   "metadata": {},
   "outputs": [],
   "source": [
    "type(trade_data['tickers'].unique())"
   ]
  },
  {
   "cell_type": "markdown",
   "id": "a4e864d2-c680-4c81-aa95-877a46dce796",
   "metadata": {},
   "source": [
    "So we wish to see how each trade has done on a daily basis.  We will use yfinance for now, could get from any number of APIs \n",
    "\n",
    "If you haven't already, `pip install yfinance` in a terminal\n",
    "\n",
    "Lets define some constants which we will use to setup the scope of our analysis"
   ]
  },
  {
   "cell_type": "code",
   "execution_count": null,
   "id": "0ccc442b-758d-4561-890d-894c1ae08203",
   "metadata": {},
   "outputs": [],
   "source": [
    "PERIOD = '1D' # Daily\n",
    "END = '2021-06-28' #  could use datetime.now"
   ]
  },
  {
   "cell_type": "code",
   "execution_count": null,
   "id": "e0255900-6bae-419d-9daf-580d9542cec7",
   "metadata": {},
   "outputs": [],
   "source": [
    "quotes = [] # empty list for storing quotes\n",
    "\n",
    "for ticker, date in zip(trade_data['tickers'], trade_data['dates'] ):\n",
    "    _quote = yf.Ticker(ticker)\n",
    "    quotes.append(_quote.history(period=PERIOD, start=date, end=END))"
   ]
  },
  {
   "cell_type": "markdown",
   "id": "6fe4f5db-59d6-4ae1-ab00-69ae309cdc2c",
   "metadata": {
    "tags": []
   },
   "source": [
    "<div class=\"alert alert-danger\" role=\"alert\">\n",
    "  ^^^ We  can see a few missing. Need to fix these later. \n",
    "</div>"
   ]
  },
  {
   "cell_type": "code",
   "execution_count": null,
   "id": "d1ac691b-9f88-4430-b420-567ab91dc1bd",
   "metadata": {},
   "outputs": [],
   "source": [
    "quotes[0].head()"
   ]
  },
  {
   "cell_type": "markdown",
   "id": "af6c6a67-a4c6-4aac-9b9b-22581fc1c987",
   "metadata": {},
   "source": [
    "----------\n",
    "Lets open some candlestick charts [Helpful link](https://coderzcolumn.com/tutorials/data-science/candlestick-chart-in-python-mplfinance-plotly-bokeh)  Lets use Plotly for now.  `pip install plotly`\n",
    "\n",
    "To use Plotly need to install [Node.js](https://nodejs.org/en/download/current/)    Do this by typing into a terminal\n",
    "\n",
    "`conda install jodejs`   \n",
    "followed by:   \n",
    "`jupyter labextension install @jupyterlab/plotly-extension`   \n",
    "----------------\n",
    "\n",
    "Now lets make a little dropdown box for us to chose the ticker we want to see below in the plot    \n",
    "`conda install ipywidgets`    \n",
    "`jupyter labextension install @jupyter-widgets/jupyterlab-manager`\n"
   ]
  },
  {
   "cell_type": "code",
   "execution_count": null,
   "id": "ff437b34-bc73-4b3a-81d9-13a9b087d52d",
   "metadata": {},
   "outputs": [],
   "source": [
    "from ipywidgets import interact, interact_manual"
   ]
  },
  {
   "cell_type": "code",
   "execution_count": null,
   "id": "dd93153c-86af-4030-aa0a-bcd47530e521",
   "metadata": {},
   "outputs": [],
   "source": [
    "type(trade_data['tickers'])"
   ]
  },
  {
   "cell_type": "code",
   "execution_count": null,
   "id": "059c73d3-df5b-415b-9acc-8f8209d5e1d5",
   "metadata": {},
   "outputs": [],
   "source": []
  },
  {
   "cell_type": "code",
   "execution_count": null,
   "id": "53f53e9d-fd76-4f9b-8216-ff858a16c83b",
   "metadata": {
    "tags": []
   },
   "outputs": [],
   "source": [
    "@interact()\n",
    "def make_plot(ticker=trade_data['tickers']):\n",
    "\n",
    "    ii = list(trade_data['tickers']).index(ticker)\n",
    "    candlestick = go.Candlestick(x=quotes[ii].index,\n",
    "                                open=quotes[ii]['Open'],\n",
    "                                high=quotes[ii]['High'],\n",
    "                                low=quotes[ii]['Low'],\n",
    "                                close=quotes[ii]['Close'])\n",
    "\n",
    "    fig = go.Figure(data=[candlestick])\n",
    "    fig.update_layout(xaxis_rangeslider_visible=False,\n",
    "                     title=trade_data['tickers'][ii],\n",
    "                     template='plotly_dark')\n",
    "\n",
    "    fig.show()"
   ]
  },
  {
   "cell_type": "markdown",
   "id": "5f8202f6-da2e-4b8e-8427-b65e87ff5fdf",
   "metadata": {
    "tags": []
   },
   "source": [
    "Now we need to generate our port folio based on the ticker data.  Dealing with datetimes is always painful"
   ]
  },
  {
   "cell_type": "code",
   "execution_count": null,
   "id": "be9fc77c-a2cd-4d2f-b098-1a3ce2cf6d68",
   "metadata": {},
   "outputs": [],
   "source": [
    "from datetime import datetime\n",
    "_dates = []\n",
    "\n",
    "for date in trade_data['dates']:\n",
    "    _dates.append(datetime.strptime(date, '%Y-%m-%d').date())\n",
    "\n",
    "\n",
    "date_range = pd.date_range(start=min(_dates), end=END, freq='D')"
   ]
  },
  {
   "cell_type": "code",
   "execution_count": null,
   "id": "030c4eb0-c7ce-4df3-9f65-f084f3a60a56",
   "metadata": {},
   "outputs": [],
   "source": [
    "date_range"
   ]
  },
  {
   "cell_type": "code",
   "execution_count": null,
   "id": "82dc0147-b984-4fec-be33-4742d596858a",
   "metadata": {
    "tags": []
   },
   "outputs": [],
   "source": [
    "df = None\n",
    "portfolio = date_range.to_frame()\n",
    "frames = [portfolio]\n",
    "\n",
    "for ii in range(len(trade_data['tickers'])):\n",
    "    print(ii)\n",
    "    frames.append(quotes[ii]['Close'] * trade_data['amounts'][ii])\n",
    "\n",
    "df = pd.concat(frames, axis=1)\n",
    "df = df.drop(df.columns[0], axis=1)\n",
    "\n",
    "df.columns = trade_data['tickers']\n",
    "\n",
    "portfolio = df"
   ]
  },
  {
   "cell_type": "code",
   "execution_count": null,
   "id": "ee236522-87cf-4d45-839a-07173c4b1741",
   "metadata": {},
   "outputs": [],
   "source": [
    "portfolio.fillna(method='ffill', inplace=True)  ## forward fill.  so on weekends we carry forward Friday's value"
   ]
  },
  {
   "cell_type": "code",
   "execution_count": null,
   "id": "44e19e05-a7a8-4eb7-a4c9-ee82655940b6",
   "metadata": {},
   "outputs": [],
   "source": [
    "portfolio['Total'] = portfolio.sum(axis=1)  # add to total as a column"
   ]
  },
  {
   "cell_type": "code",
   "execution_count": null,
   "id": "2b1f35e2-500b-4ba9-807d-49a9e415e87a",
   "metadata": {},
   "outputs": [],
   "source": [
    "portfolio"
   ]
  },
  {
   "cell_type": "markdown",
   "id": "fc7c39d6-7f4e-4721-a538-9916433ecf0e",
   "metadata": {},
   "source": [
    "now lets merge duplicate columns wich represent multiple trades "
   ]
  },
  {
   "cell_type": "code",
   "execution_count": null,
   "id": "2ae43000-2419-4048-b73b-8a5787be3159",
   "metadata": {},
   "outputs": [],
   "source": [
    "portfolio = portfolio.groupby(portfolio.columns, axis=1).sum()"
   ]
  },
  {
   "cell_type": "code",
   "execution_count": null,
   "id": "9c7fada5-c10a-47a4-acc1-439a0429ca84",
   "metadata": {},
   "outputs": [],
   "source": [
    "import plotly.express as px\n",
    "\n",
    "fig = px.line(portfolio, width=1600, height=800)\n",
    "fig.update_layout(xaxis_rangeslider_visible=False,\n",
    "                 title='Portfolio Value',\n",
    "                 template='plotly_dark')\n",
    "fig.show()"
   ]
  },
  {
   "cell_type": "code",
   "execution_count": null,
   "id": "0db0bbe1-6b8f-4c10-ab0e-88502cb13382",
   "metadata": {},
   "outputs": [],
   "source": [
    "# d = trade_data.groupby(['type']).sum()\n",
    "# pylab.pie(d,  shadow = True, autopct='%1.1f%%', textprops={'color':\"w\"});\n",
    "# d"
   ]
  },
  {
   "cell_type": "code",
   "execution_count": null,
   "id": "61f8627a-13bc-4c30-8995-f594eb17a3fb",
   "metadata": {},
   "outputs": [],
   "source": [
    "portfolio.count()[0]-1"
   ]
  },
  {
   "cell_type": "code",
   "execution_count": null,
   "id": "e8f9e219-67fc-4e80-aaf2-02ba2e5e9bb0",
   "metadata": {},
   "outputs": [],
   "source": [
    "@interact()\n",
    "def plot_pie(day=(0, portfolio.count()[0]-1)):\n",
    "    vec = portfolio.iloc[day].to_numpy()[:-1]\n",
    "    pylab.pie(vec, labels=portfolio.columns[:-1], shadow = True, autopct='%1.1f%%', textprops={'color':\"w\"});"
   ]
  },
  {
   "cell_type": "code",
   "execution_count": null,
   "id": "69598ef0-fc5b-44cc-99db-54851107eed0",
   "metadata": {},
   "outputs": [],
   "source": []
  },
  {
   "cell_type": "code",
   "execution_count": null,
   "id": "9013890c-6050-43b3-bb68-64002d0d988e",
   "metadata": {},
   "outputs": [],
   "source": [
    "portfolio.corr()"
   ]
  },
  {
   "cell_type": "code",
   "execution_count": null,
   "id": "20fd0f99-6721-4d9a-91f8-22fe532b4b4f",
   "metadata": {},
   "outputs": [],
   "source": [
    "import plotly.express as px\n",
    "\n",
    "fig = px.imshow(portfolio.corr(), width=1600*2, height=800*2)\n",
    "fig.update_layout(\n",
    "    title= 'Pearson Correlation Coefficient')\n",
    "fig.show()"
   ]
  },
  {
   "cell_type": "code",
   "execution_count": null,
   "id": "8e940872-b151-4527-bfe8-d1385adb10a3",
   "metadata": {},
   "outputs": [],
   "source": []
  },
  {
   "cell_type": "code",
   "execution_count": null,
   "id": "11ecd241-ce9b-427f-beb7-e299d1022468",
   "metadata": {},
   "outputs": [],
   "source": []
  },
  {
   "cell_type": "code",
   "execution_count": null,
   "id": "007c560c-62b6-4845-b1df-0328d880fcd9",
   "metadata": {},
   "outputs": [],
   "source": []
  },
  {
   "cell_type": "code",
   "execution_count": null,
   "id": "fe7202ef-77f2-4004-b0af-713cd1aa59e9",
   "metadata": {},
   "outputs": [],
   "source": []
  }
 ],
 "metadata": {
  "kernelspec": {
   "display_name": "Python 3",
   "language": "python",
   "name": "python3"
  },
  "language_info": {
   "codemirror_mode": {
    "name": "ipython",
    "version": 3
   },
   "file_extension": ".py",
   "mimetype": "text/x-python",
   "name": "python",
   "nbconvert_exporter": "python",
   "pygments_lexer": "ipython3",
   "version": "3.8.10"
  }
 },
 "nbformat": 4,
 "nbformat_minor": 5
}
