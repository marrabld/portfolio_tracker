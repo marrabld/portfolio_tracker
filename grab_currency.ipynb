{
 "cells": [
  {
   "cell_type": "markdown",
   "id": "a1a2614f-4316-4839-ae3b-49ca0293e204",
   "metadata": {},
   "source": [
    "## Lets get the exchange rates. \n",
    "------------\n",
    "We will start with using [https://exchangerate.host/#/](exchangerate.host)\n"
   ]
  },
  {
   "cell_type": "code",
   "execution_count": 2,
   "id": "43bad284-6b64-4c44-a9a0-33aeef630f7d",
   "metadata": {},
   "outputs": [],
   "source": [
    "import requests as rq"
   ]
  },
  {
   "cell_type": "markdown",
   "id": "a7dc1821-e52f-4417-98ed-aac4f90a90be",
   "metadata": {},
   "source": []
  },
  {
   "cell_type": "code",
   "execution_count": null,
   "id": "f28c03ed-f2b4-4058-876f-d06ef1695d61",
   "metadata": {},
   "outputs": [],
   "source": []
  },
  {
   "cell_type": "code",
   "execution_count": 21,
   "id": "130a9553-05c3-4536-95b7-517a4e1601f7",
   "metadata": {},
   "outputs": [],
   "source": [
    "def get_currency(url= f'https://api.exchangerate.host/2020-04-04'):\n",
    "\n",
    "    # Making our request\n",
    "    response = rq.get(url)\n",
    "    data = response.json()\n",
    "\n",
    "    # Your JSON object\n",
    "    return data"
   ]
  },
  {
   "cell_type": "code",
   "execution_count": 24,
   "id": "d875d231-58c1-4824-91db-635c78ce62df",
   "metadata": {},
   "outputs": [
    {
     "name": "stdout",
     "output_type": "stream",
     "text": [
      "{'motd': {'msg': 'If you or your company use this project or like what we doing, please consider backing us so we can continue maintaining and evolving this project.', 'url': 'https://exchangerate.host/#/donate'}, 'success': True, 'historical': True, 'base': 'EUR', 'date': '2020-04-04', 'rates': {'USD': 1.0847, 'JPY': 117.14, 'BGN': 1.9483, 'CZK': 27.5302, 'DKK': 7.467, 'GBP': 0.875, 'HUF': 362.921, 'PLN': 4.5645, 'RON': 4.8311, 'SEK': 10.9335, 'CHF': 1.0568, 'ISK': 153.87, 'NOK': 11.2504, 'HRK': 7.6273, 'RUB': 83.6628, 'TRY': 7.1894, 'AUD': 1.7888, 'BRL': 5.6973, 'CAD': 1.5325, 'CNY': 7.6783, 'HKD': 8.4071, 'IDR': 17830, 'ILS': 3.9566, 'INR': 82.783, 'KRW': 1330.78, 'MXN': 26.295, 'MYR': 4.6782, 'NZD': 1.8338, 'PHP': 54.902, 'SGD': 1.5512, 'THB': 35.692, 'ZAR': 20.0406, 'EUR': 1, 'AED': 3.9812, 'AFN': 82.08, 'ALL': 125.15, 'ARS': 70.0439, 'BAM': 1.9458, 'BBD': 2.1548, 'BDT': 90.9565, 'BHD': 0.4059, 'BIF': 2035.34, 'BMD': 1.0889, 'BND': 1.5396, 'BOB': 7.3291, 'BSD': 1.085, 'BWP': 13.036, 'BZD': 2.1511, 'CLP': 930.813, 'COP': 4412.7998, 'CRC': 616.61, 'CUP': 1.062, 'CVE': 110.265, 'DJF': 189.9, 'DOP': 58.068, 'DZD': 136.216, 'EGP': 17.057, 'ETB': 35.9584, 'FJD': 2.4867, 'GHS': 6.3084, 'GNF': 10332.2002, 'GTQ': 8.219, 'HNL': 26.54, 'HTG': 102.536, 'IQD': 1273.59, 'JMD': 144.91, 'JOD': 0.7614, 'KES': 112.64, 'KHR': 4340.7998, 'KWD': 0.3376, 'KYD': 0.8899, 'KZT': 486.45, 'LAK': 9507.5996, 'LBP': 1632, 'LKR': 203.426, 'LSL': 19.834, 'LYD': 1.5047, 'MAD': 10.8499, 'MDL': 19.8194, 'MGA': 4068.6001, 'MKD': 61.245, 'MMK': 1508.38, 'MOP': 8.5184, 'MUR': 41.23, 'MVR': 16.5104, 'MWK': 800.163, 'NAD': 19.834, 'NGN': 413.58, 'NIO': 36.337, 'NPR': 131.788, 'OMR': 0.4162, 'PAB': 1.0669, 'PEN': 3.7047, 'PGK': 3.6628, 'PKR': 180.415, 'PYG': 7034.3999, 'QAR': 3.8258, 'RSD': 117.408, 'RWF': 1024.91, 'SAR': 4.0777, 'SCR': 13.923, 'SOS': 591.7, 'SVC': 9.314, 'SZL': 19.8713, 'TND': 3.1328, 'TTD': 7.228, 'TWD': 31.9816, 'TZS': 2476.8, 'UAH': 29.7862, 'UGX': 4093.5, 'UYU': 47.446, 'UZS': 10459.7998, 'VND': 25365, 'XAF': 655.957, 'XOF': 655.957, 'XPF': 119.26, 'ZMW': 20.2441}}\n"
     ]
    }
   ],
   "source": [
    "print(get_currency())"
   ]
  },
  {
   "cell_type": "code",
   "execution_count": 25,
   "id": "4b45abab-3105-400c-b480-ed1c5eae405c",
   "metadata": {},
   "outputs": [],
   "source": [
    "data = get_currency()"
   ]
  },
  {
   "cell_type": "code",
   "execution_count": 30,
   "id": "0160c6e8-8f5b-44cb-afeb-7b9c3153a598",
   "metadata": {},
   "outputs": [
    {
     "data": {
      "text/plain": [
       "1.0847"
      ]
     },
     "execution_count": 30,
     "metadata": {},
     "output_type": "execute_result"
    }
   ],
   "source": [
    "data['rates']['USD']"
   ]
  },
  {
   "cell_type": "code",
   "execution_count": 26,
   "id": "ccb90734-c083-4401-92f9-f86becf40e23",
   "metadata": {},
   "outputs": [
    {
     "data": {
      "text/plain": [
       "dict_keys(['motd', 'success', 'historical', 'base', 'date', 'rates'])"
      ]
     },
     "execution_count": 26,
     "metadata": {},
     "output_type": "execute_result"
    }
   ],
   "source": [
    "data.keys()"
   ]
  },
  {
   "cell_type": "code",
   "execution_count": 32,
   "id": "0660211e-2f2e-40d8-a8ff-fb67a2165b2d",
   "metadata": {},
   "outputs": [
    {
     "name": "stdout",
     "output_type": "stream",
     "text": [
      "{'motd': {'msg': 'If you or your company use this project or like what we doing, please consider backing us so we can continue maintaining and evolving this project.', 'url': 'https://exchangerate.host/#/donate'}, 'success': True, 'historical': True, 'base': 'EUR', 'date': '2021-05-31', 'rates': {'AED': 4.491908, 'AFN': 95.831653, 'ALL': 123.444329, 'AMD': 636.94765, 'ANG': 2.195569, 'AOA': 785.17884, 'ARS': 115.711512, 'AUD': 1.579428, 'AWG': 2.201436, 'AZN': 2.080119, 'BAM': 1.962417, 'BBD': 2.44604, 'BDT': 103.71573, 'BGN': 1.956404, 'BHD': 0.461083, 'BIF': 2410.807333, 'BMD': 1.22302, 'BND': 1.617429, 'BOB': 8.445748, 'BRL': 6.381719, 'BSD': 1.22302, 'BTC': 3.3e-05, 'BTN': 88.70363, 'BWP': 12.998228, 'BYN': 3.0984, 'BZD': 2.465475, 'CAD': 1.474919, 'CDF': 2432.556176, 'CHF': 1.098798, 'CLF': 0.032041, 'CLP': 884.121157, 'CNH': 7.79194, 'CNY': 7.790637, 'COP': 4520.464382, 'CRC': 754.34181, 'CUC': 1.22302, 'CUP': 31.492765, 'CVE': 111.380431, 'CZK': 25.438911, 'DJF': 217.630454, 'DKK': 7.437237, 'DOP': 69.571517, 'DZD': 162.886028, 'EGP': 19.197133, 'ERN': 18.347742, 'ETB': 53.237085, 'EUR': 1, 'FJD': 2.481385, 'FKP': 0.860269, 'GBP': 0.860269, 'GEL': 3.987045, 'GGP': 0.860269, 'GHS': 7.08197, 'GIP': 0.860269, 'GMD': 62.594164, 'GNF': 11986.553635, 'GTQ': 9.45052, 'GYD': 255.898855, 'HKD': 9.492164, 'HNL': 29.390648, 'HRK': 7.506041, 'HTG': 110.785859, 'HUF': 347.386044, 'IDR': 17467.783139, 'ILS': 3.972993, 'IMP': 0.860269, 'INR': 88.654342, 'IQD': 1784.54746, 'IRR': 51495.257069, 'ISK': 147.606284, 'JEP': 0.860269, 'JMD': 182.345069, 'JOD': 0.867121, 'JPY': 133.956769, 'KES': 131.731581, 'KGS': 102.956027, 'KHR': 4975.686458, 'KMF': 494.558634, 'KPW': 1100.717999, 'KRW': 1355.104273, 'KWD': 0.367846, 'KYD': 1.019321, 'KZT': 523.938381, 'LAK': 11552.280631, 'LBP': 1844.6891, 'LKR': 241.875012, 'LRD': 209.931356, 'LSL': 16.828785, 'LYD': 5.447183, 'MAD': 10.822024, 'MDL': 21.53974, 'MGA': 4590.801596, 'MKD': 61.627603, 'MMK': 2013.279434, 'MNT': 3486.776875, 'MOP': 9.776615, 'MRO': 436.617929, 'MRU': 44.644848, 'MUR': 50.504612, 'MVR': 18.895659, 'MWK': 975.451321, 'MXN': 24.373627, 'MYR': 5.047404, 'MZN': 74.561414, 'NAD': 16.8471, 'NGN': 503.853885, 'NIO': 43.029425, 'NOK': 10.166764, 'NPR': 141.925373, 'NZD': 1.679794, 'OMR': 0.470843, 'PAB': 1.22302, 'PEN': 4.665058, 'PGK': 4.294715, 'PHP': 58.372299, 'PKR': 188.546349, 'PLN': 4.478995, 'PYG': 8282.683111, 'QAR': 4.45425, 'RON': 4.917641, 'RSD': 118.001047, 'RUB': 89.834977, 'RWF': 1220.07584, 'SAR': 4.586828, 'SBD': 9.745334, 'SCR': 18.137499, 'SDG': 513.05689, 'SEK': 10.134875, 'SGD': 1.615714, 'SHP': 0.860269, 'SLL': 12526.78247, 'SOS': 707.575151, 'SRD': 17.310625, 'SSP': 159.310585, 'STD': 25361.633949, 'STN': 25.010759, 'SVC': 10.702924, 'SYP': 1537.990564, 'SZL': 16.83039, 'THB': 38.146605, 'TJS': 13.864234, 'TMT': 4.28057, 'TND': 3.333341, 'TOP': 2.72912, 'TRY': 10.387158, 'TTD': 8.314006, 'TWD': 33.72967, 'TZS': 2836.449066, 'UAH': 33.60409, 'UGX': 4337.262863, 'USD': 1.22302, 'UYU': 53.648204, 'UZS': 12926.365344, 'VES': 3804808.185346, 'VND': 28095.269705, 'VUV': 132.353522, 'WST': 3.073841, 'XAF': 655.957, 'XAG': 0.043566, 'XAU': 0.000641, 'XCD': 3.305273, 'XDR': 0.846067, 'XOF': 655.957, 'XPD': 0.00043, 'XPF': 119.331742, 'XPT': 0.001026, 'YER': 305.755153, 'ZAR': 16.781498, 'ZMW': 27.526692, 'ZWL': 393.81244}}\n"
     ]
    }
   ],
   "source": [
    "YEAR = 2021\n",
    "MONTH = 6\n",
    "DAY = 20\n",
    "\n",
    "url = f'https://api.exchangerate.host/{YEAR}-{MONTH}-{DAY}'\n",
    "print(get_currency(url=url))"
   ]
  },
  {
   "cell_type": "markdown",
   "id": "b577751d-c2c1-471b-b8bf-71df8937e250",
   "metadata": {},
   "source": [
    "## Timeseries"
   ]
  },
  {
   "cell_type": "code",
   "execution_count": 49,
   "id": "cb2a5737-0c4a-4cde-85f4-0689cbe49065",
   "metadata": {},
   "outputs": [
    {
     "name": "stdout",
     "output_type": "stream",
     "text": [
      "{'motd': {'msg': 'If you or your company use this project or like what we doing, please consider backing us so we can continue maintaining and evolving this project.', 'url': 'https://exchangerate.host/#/donate'}, 'success': True, 'timeseries': True, 'base': 'AUD', 'start_date': '2020-01-01', 'end_date': '2020-02-04', 'rates': {'2020-01-01': {'USD': 0.701619}, '2020-01-02': {'USD': 0.702102}, '2020-01-03': {'USD': 0.698449}, '2020-01-04': {'USD': 0.698449}, '2020-01-05': {'USD': 0.698449}, '2020-01-06': {'USD': 0.6945}, '2020-01-07': {'USD': 0.693933}, '2020-01-08': {'USD': 0.686124}, '2020-01-09': {'USD': 0.68743}, '2020-01-10': {'USD': 0.68561}, '2020-01-11': {'USD': 0.68561}, '2020-01-12': {'USD': 0.68561}, '2020-01-13': {'USD': 0.690111}, '2020-01-14': {'USD': 0.689963}, '2020-01-15': {'USD': 0.68991}, '2020-01-16': {'USD': 0.690907}, '2020-01-17': {'USD': 0.690082}, '2020-01-18': {'USD': 0.690082}, '2020-01-19': {'USD': 0.690082}, '2020-01-20': {'USD': 0.688233}, '2020-01-21': {'USD': 0.687717}, '2020-01-22': {'USD': 0.684913}, '2020-01-23': {'USD': 0.684347}, '2020-01-24': {'USD': 0.684012}, '2020-01-25': {'USD': 0.684012}, '2020-01-26': {'USD': 0.684012}, '2020-01-27': {'USD': 0.68022}, '2020-01-28': {'USD': 0.67624}, '2020-01-29': {'USD': 0.676507}, '2020-01-30': {'USD': 0.675641}, '2020-01-31': {'USD': 0.670986}, '2020-02-01': {'USD': 0.670986}, '2020-02-02': {'USD': 0.670986}, '2020-02-03': {'USD': 0.669403}, '2020-02-04': {'USD': 0.669106}}}\n"
     ]
    }
   ],
   "source": [
    "START = '2020-01-01'\n",
    "END = '2020-02-04'\n",
    "BASE = 'AUD'\n",
    "SYMBOL = 'USD'\n",
    "\n",
    "url = f'https://api.exchangerate.host/timeseries?start_date={START}1&end_date={END}&symbols={SYMBOL}&base={BASE}'\n",
    "response = requests.get(url)\n",
    "data = response.json()\n",
    "\n",
    "print(data)\n",
    "        "
   ]
  },
  {
   "cell_type": "code",
   "execution_count": 50,
   "id": "cd54c1da-c4c5-4d5b-b77c-f5aee29f9e73",
   "metadata": {},
   "outputs": [
    {
     "data": {
      "text/plain": [
       "dict_keys(['motd', 'success', 'timeseries', 'base', 'start_date', 'end_date', 'rates'])"
      ]
     },
     "execution_count": 50,
     "metadata": {},
     "output_type": "execute_result"
    }
   ],
   "source": [
    "data.keys()"
   ]
  },
  {
   "cell_type": "code",
   "execution_count": 51,
   "id": "c012f37e-7be7-4f35-91c1-8c8cc5f2a7d0",
   "metadata": {},
   "outputs": [
    {
     "data": {
      "text/plain": [
       "{'USD': 0.701619}"
      ]
     },
     "execution_count": 51,
     "metadata": {},
     "output_type": "execute_result"
    }
   ],
   "source": [
    "data['rates']['2020-01-01']"
   ]
  },
  {
   "cell_type": "code",
   "execution_count": null,
   "id": "ee3bc44d-5dd6-4f3d-b823-dca8c4b4c712",
   "metadata": {},
   "outputs": [],
   "source": []
  },
  {
   "cell_type": "code",
   "execution_count": null,
   "id": "b18a3ef9-900e-458c-879b-d7d6c0afcdfc",
   "metadata": {},
   "outputs": [],
   "source": []
  }
 ],
 "metadata": {
  "kernelspec": {
   "display_name": "Python 3",
   "language": "python",
   "name": "python3"
  },
  "language_info": {
   "codemirror_mode": {
    "name": "ipython",
    "version": 3
   },
   "file_extension": ".py",
   "mimetype": "text/x-python",
   "name": "python",
   "nbconvert_exporter": "python",
   "pygments_lexer": "ipython3",
   "version": "3.8.10"
  }
 },
 "nbformat": 4,
 "nbformat_minor": 5
}
